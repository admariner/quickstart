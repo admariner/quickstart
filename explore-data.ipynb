{
 "cells": [
  {
   "cell_type": "markdown",
   "metadata": {},
   "source": [
    "# Data exploration\n",
    "\n",
    "Explore the housing data that was passed by the previous step.\n",
    "\n",
    "For explanatory reasons we use Vaex (https://github.com/vaexio/vaex) instead of the familiar `pandas` to represent our dataframes. Namely, the packages `orchest`, `matplotlib` and `sklearn` are included by default, i.e. you don't have to install the dependencies using `pip` for example. If you explore the *Environments* in the left pane menu, you will see that we installed Vaex in the setup script."
   ]
  },
  {
   "cell_type": "code",
   "execution_count": null,
   "metadata": {},
   "outputs": [],
   "source": [
    "from matplotlib import pyplot as plt\n",
    "import orchest\n",
    "from sklearn.decomposition import PCA\n",
    "from sklearn.preprocessing import StandardScaler\n",
    "import vaex as vx"
   ]
  },
  {
   "cell_type": "code",
   "execution_count": null,
   "metadata": {},
   "outputs": [],
   "source": [
    "# Retrieve the data from the previous step.\n",
    "data = orchest.get_inputs()  # data = [(df_data, df_target)]\n",
    "df_data, df_target = data[\"data\"]\n",
    "\n",
    "# Convert the pandas dataframes to vaex dataframes.\n",
    "data, target = vx.from_pandas(df_data), vx.from_pandas(df_target)"
   ]
  },
  {
   "cell_type": "code",
   "execution_count": null,
   "metadata": {},
   "outputs": [],
   "source": [
    "data.head()"
   ]
  },
  {
   "cell_type": "code",
   "execution_count": null,
   "metadata": {},
   "outputs": [],
   "source": [
    "data.info()"
   ]
  },
  {
   "cell_type": "code",
   "execution_count": null,
   "metadata": {},
   "outputs": [],
   "source": [
    "data.describe()"
   ]
  },
  {
   "cell_type": "code",
   "execution_count": null,
   "metadata": {},
   "outputs": [],
   "source": [
    "# Plot the counts for the different features to see how they are\n",
    "# distributed.\n",
    "plt.style.use('ggplot')\n",
    "fig, axs = plt.subplots(3, 3, figsize=(15, 10))\n",
    "\n",
    "for i, col in enumerate(data.column_names):\n",
    "    plt.sca(axs[i//3][i%3])\n",
    "    data.plot1d(col, shape=(64))\n",
    "\n",
    "plt.show()"
   ]
  },
  {
   "cell_type": "markdown",
   "metadata": {},
   "source": [
    "### PCA\n",
    "Let's use PCA to reduce the number of features to two, then plot with respect to the target feature.\n"
   ]
  },
  {
   "cell_type": "code",
   "execution_count": null,
   "metadata": {},
   "outputs": [],
   "source": [
    "# First, we scale the input features before we can use PCA.\n",
    "X = data.values\n",
    "X = StandardScaler().fit_transform(X)\n",
    "y = target.values"
   ]
  },
  {
   "cell_type": "code",
   "execution_count": null,
   "metadata": {},
   "outputs": [],
   "source": [
    "# Run PCA over the features.\n",
    "pca = PCA(n_components=2)\n",
    "components = pca.fit_transform(X)"
   ]
  },
  {
   "cell_type": "code",
   "execution_count": null,
   "metadata": {},
   "outputs": [],
   "source": [
    "# Plot the principal components against the target feature.\n",
    "plt.style.use('default')\n",
    "fig = plt.figure(figsize=(20, 15))\n",
    "ax = fig.add_subplot(111, projection='3d')\n",
    "\n",
    "ax.scatter(components[:, 0], components[:, 1], y)\n",
    "ax.set_xlim([-10, 10])\n",
    "\n",
    "ax.set_xlabel('Component 1')\n",
    "ax.set_ylabel('Component 2')\n",
    "ax.set_zlabel('Target')\n",
    "\n",
    "plt.show()"
   ]
  }
 ],
 "metadata": {
  "kernelspec": {
   "display_name": "Python 3",
   "language": "python",
   "name": "orchest-kernel-c56ab762-539c-4cce-9b1e-c4b00300ec6f"
  },
  "language_info": {
   "codemirror_mode": {
    "name": "ipython",
    "version": 3
   },
   "file_extension": ".py",
   "mimetype": "text/x-python",
   "name": "python",
   "nbconvert_exporter": "python",
   "pygments_lexer": "ipython3",
   "version": "3.7.6"
  }
 },
 "nbformat": 4,
 "nbformat_minor": 4
}
