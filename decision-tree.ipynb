{
    "cells": [
        {
            "cell_type": "code",
            "execution_count": null,
            "metadata": {},
            "outputs": [],
            "source": [
                "import orchest\n",
                "import numpy as np\n",
                "from sklearn.metrics import mean_squared_error\n",
                "from sklearn.tree import DecisionTreeRegressor"
            ]
        },
        {
            "cell_type": "code",
            "execution_count": null,
            "metadata": {},
            "outputs": [],
            "source": [
                "# get the data from the previous step\n",
                "data = orchest.get_inputs()\n",
                "data = data[0]\n",
                "X_train, y_train, X_test, y_test = data"
            ]
        },
        {
            "cell_type": "code",
            "execution_count": null,
            "metadata": {},
            "outputs": [],
            "source": [
                "# fit, predict, get error\n",
                "model = DecisionTreeRegressor()\n",
                "model.fit(X_train, y_train)\n",
                "\n",
                "y_test_prediction = model.predict(X_test)\n",
                "test_rmse = (np.sqrt(mean_squared_error(y_test, y_test_prediction)))"
            ]
        },
        {
            "cell_type": "code",
            "execution_count": null,
            "metadata": {},
            "outputs": [],
            "source": [
                "orchest.output({\"model\": \"decision-tree-regressor\",  \"rmse\": test_rmse})"
            ]
        }
    ],
    "metadata": {
        "kernelspec": {
            "display_name": "Python",
            "language": "python",
            "name": "orchest-env-107846ee-bc52-4c8f-9aed-cebd4c591456-c56ab762-539c-4cce-9b1e-c4b00300ec6f"
        },
        "language_info": {
            "codemirror_mode": {
                "name": "ipython",
                "version": 3
            },
            "file_extension": ".py",
            "mimetype": "text/x-python",
            "name": "python",
            "nbconvert_exporter": "python",
            "pygments_lexer": "ipython3",
            "version": "3.7.6"
        }
    },
    "nbformat": 4,
    "nbformat_minor": 4
}